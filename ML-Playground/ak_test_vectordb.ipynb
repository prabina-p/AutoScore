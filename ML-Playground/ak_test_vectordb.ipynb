{
 "cells": [
  {
   "cell_type": "code",
   "execution_count": 1,
   "metadata": {},
   "outputs": [],
   "source": [
    "import chromadb\n",
    "import pandas as pd"
   ]
  },
  {
   "cell_type": "code",
   "execution_count": 3,
   "metadata": {},
   "outputs": [],
   "source": [
    "client = chromadb.Client()\n",
    "collection = client.create_collection(\"BST_question\")"
   ]
  },
  {
   "cell_type": "code",
   "execution_count": 4,
   "metadata": {},
   "outputs": [],
   "source": [
    "df = pd.read_csv(\"data/submission_metadata.csv\")"
   ]
  },
  {
   "cell_type": "code",
   "execution_count": 5,
   "metadata": {},
   "outputs": [],
   "source": [
    "correct = df['Question 1 Response'].values[0] #correct answer\n",
    "incorrect = \"A binary search tree is a type of data structure where each node has three children: a left child, a right child, and a middle child. The goal of the binary search tree is to organize data in such a way that searching for an element involves traversing through all the nodes in the tree in a random order.\" # wrong answer"
   ]
  },
  {
   "cell_type": "code",
   "execution_count": 6,
   "metadata": {},
   "outputs": [
    {
     "name": "stderr",
     "output_type": "stream",
     "text": [
      "\u001b[0;93m2024-02-17 16:32:41.485839 [W:onnxruntime:, helper.cc:67 IsInputSupported] CoreML does not support input dim > 16384. Input:embeddings.word_embeddings.weight, shape: {30522,384}\u001b[m\n",
      "\u001b[0;93m2024-02-17 16:32:41.486323 [W:onnxruntime:, coreml_execution_provider.cc:81 GetCapability] CoreMLExecutionProvider::GetCapability, number of partitions supported by CoreML: 49 number of nodes in the graph: 323 number of nodes supported by CoreML: 231\u001b[m\n"
     ]
    }
   ],
   "source": [
    "collection.add(\n",
    "    documents=[correct, incorrect],\n",
    "    # metadatas=[{\"source\": \"my_source\"}, {\"source\": \"my_source\"}],\n",
    "    ids=[\"id1\", \"id2\"]\n",
    ")"
   ]
  },
  {
   "cell_type": "code",
   "execution_count": 7,
   "metadata": {},
   "outputs": [],
   "source": [
    "results = collection.query(\n",
    "    query_texts=[\"a BST is a type of data structure where there are two nodes for each parent node.\"],\n",
    "    n_results=2\n",
    ")"
   ]
  },
  {
   "cell_type": "code",
   "execution_count": 8,
   "metadata": {},
   "outputs": [
    {
     "data": {
      "text/plain": [
       "{'ids': [['id2', 'id1']],\n",
       " 'distances': [[0.8474187850952148, 1.0893633365631104]],\n",
       " 'metadatas': [[None, None]],\n",
       " 'embeddings': None,\n",
       " 'documents': [['A binary search tree is a type of data structure where each node has three children: a left child, a right child, and a middle child. The goal of the binary search tree is to organize data in such a way that searching for an element involves traversing through all the nodes in the tree in a random order.',\n",
       "   'Binary search trees represent a sophisticated data structure pivotal for managing and manipulating large datasets with optimal efficiency. Their function transcends simple storage; they offer a systematic arrangement of elements, allowing logarithmic time complexity for search operations through efficient partitioning of the data space. Furthermore, binary search trees facilitate dynamic operations such as insertion and deletion while maintaining their balanced structure, making them indispensable in domains where performance and scalability are paramount, such as database management systems and network routing algorithms.']],\n",
       " 'uris': None,\n",
       " 'data': None}"
      ]
     },
     "execution_count": 8,
     "metadata": {},
     "output_type": "execute_result"
    }
   ],
   "source": [
    "results"
   ]
  },
  {
   "cell_type": "code",
   "execution_count": null,
   "metadata": {},
   "outputs": [],
   "source": [
    "# add embeddings:\n",
    "c.add(\"test1\", [1, 2, 3])\n",
    "c.add"
   ]
  },
  {
   "cell_type": "code",
   "execution_count": null,
   "metadata": {},
   "outputs": [],
   "source": []
  }
 ],
 "metadata": {
  "kernelspec": {
   "display_name": "dsc_ml",
   "language": "python",
   "name": "python3"
  },
  "language_info": {
   "codemirror_mode": {
    "name": "ipython",
    "version": 3
   },
   "file_extension": ".py",
   "mimetype": "text/x-python",
   "name": "python",
   "nbconvert_exporter": "python",
   "pygments_lexer": "ipython3",
   "version": "3.9.18"
  }
 },
 "nbformat": 4,
 "nbformat_minor": 2
}
