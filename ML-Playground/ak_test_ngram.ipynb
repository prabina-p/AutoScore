{
 "cells": [
  {
   "cell_type": "code",
   "execution_count": 1,
   "metadata": {},
   "outputs": [
    {
     "name": "stderr",
     "output_type": "stream",
     "text": [
      "/var/folders/8g/tf9vw4pd7fq5p7_swsslw8jc0000gn/T/ipykernel_43946/504799059.py:1: DeprecationWarning: \n",
      "Pyarrow will become a required dependency of pandas in the next major release of pandas (pandas 3.0),\n",
      "(to allow more performant data types, such as the Arrow string type, and better interoperability with other libraries)\n",
      "but was not found to be installed on your system.\n",
      "If this would cause problems for you,\n",
      "please provide us feedback at https://github.com/pandas-dev/pandas/issues/54466\n",
      "        \n",
      "  import pandas as pd\n",
      "[nltk_data] Downloading package punkt to\n",
      "[nltk_data]     /Users/prabinapokharel/nltk_data...\n",
      "[nltk_data]   Package punkt is already up-to-date!\n",
      "[nltk_data] Downloading package wordnet to\n",
      "[nltk_data]     /Users/prabinapokharel/nltk_data...\n",
      "[nltk_data]   Package wordnet is already up-to-date!\n",
      "[nltk_data] Downloading package stopwords to\n",
      "[nltk_data]     /Users/prabinapokharel/nltk_data...\n",
      "[nltk_data]   Package stopwords is already up-to-date!\n"
     ]
    },
    {
     "data": {
      "text/plain": [
       "True"
      ]
     },
     "execution_count": 1,
     "metadata": {},
     "output_type": "execute_result"
    }
   ],
   "source": [
    "import pandas as pd\n",
    "import numpy as np\n",
    "from sklearn.feature_extraction.text import CountVectorizer, TfidfTransformer\n",
    "\n",
    "import nltk\n",
    "from nltk.stem import WordNetLemmatizer\n",
    "from nltk.corpus  import stopwords\n",
    "import re\n",
    "\n",
    "from sklearn.ensemble import RandomForestClassifier\n",
    "from sklearn.pipeline import Pipeline\n",
    "from sklearn.model_selection import train_test_split, GridSearchCV\n",
    "from sklearn.metrics import classification_report, accuracy_score\n",
    "from sklearn.metrics.pairwise import cosine_similarity\n",
    "from sklearn.feature_extraction.text import TfidfVectorizer\n",
    "from sklearn.svm import SVC\n",
    "\n",
    "\n",
    "nltk.download('punkt')\n",
    "nltk.download('wordnet')\n",
    "nltk.download('stopwords')\n"
   ]
  },
  {
   "cell_type": "code",
   "execution_count": 2,
   "metadata": {},
   "outputs": [
    {
     "data": {
      "text/html": [
       "<div>\n",
       "<style scoped>\n",
       "    .dataframe tbody tr th:only-of-type {\n",
       "        vertical-align: middle;\n",
       "    }\n",
       "\n",
       "    .dataframe tbody tr th {\n",
       "        vertical-align: top;\n",
       "    }\n",
       "\n",
       "    .dataframe thead th {\n",
       "        text-align: right;\n",
       "    }\n",
       "</style>\n",
       "<table border=\"1\" class=\"dataframe\">\n",
       "  <thead>\n",
       "    <tr style=\"text-align: right;\">\n",
       "      <th></th>\n",
       "      <th>question</th>\n",
       "      <th>student_answer</th>\n",
       "      <th>correct</th>\n",
       "    </tr>\n",
       "  </thead>\n",
       "  <tbody>\n",
       "    <tr>\n",
       "      <th>0</th>\n",
       "      <td>What is the role of a prototype program in pro...</td>\n",
       "      <td>High risk problems are address in the prototyp...</td>\n",
       "      <td>0</td>\n",
       "    </tr>\n",
       "    <tr>\n",
       "      <th>1</th>\n",
       "      <td>What is the role of a prototype program in pro...</td>\n",
       "      <td>To simulate portions of the desired final prod...</td>\n",
       "      <td>0</td>\n",
       "    </tr>\n",
       "    <tr>\n",
       "      <th>2</th>\n",
       "      <td>What is the role of a prototype program in pro...</td>\n",
       "      <td>A prototype program simulates the behaviors of...</td>\n",
       "      <td>0</td>\n",
       "    </tr>\n",
       "    <tr>\n",
       "      <th>3</th>\n",
       "      <td>What is the role of a prototype program in pro...</td>\n",
       "      <td>Defined in the Specification phase a prototype...</td>\n",
       "      <td>0</td>\n",
       "    </tr>\n",
       "    <tr>\n",
       "      <th>4</th>\n",
       "      <td>What is the role of a prototype program in pro...</td>\n",
       "      <td>It is used to let the users have a first idea ...</td>\n",
       "      <td>0</td>\n",
       "    </tr>\n",
       "    <tr>\n",
       "      <th>...</th>\n",
       "      <td>...</td>\n",
       "      <td>...</td>\n",
       "      <td>...</td>\n",
       "    </tr>\n",
       "    <tr>\n",
       "      <th>2292</th>\n",
       "      <td>What is a queue?</td>\n",
       "      <td>A first in first out data structure</td>\n",
       "      <td>1</td>\n",
       "    </tr>\n",
       "    <tr>\n",
       "      <th>2293</th>\n",
       "      <td>What is a queue?</td>\n",
       "      <td>A queue is a stack of sequenced tasks, underta...</td>\n",
       "      <td>0</td>\n",
       "    </tr>\n",
       "    <tr>\n",
       "      <th>2294</th>\n",
       "      <td>What is a queue?</td>\n",
       "      <td>A queue in computer science is the 81st or 113...</td>\n",
       "      <td>0</td>\n",
       "    </tr>\n",
       "    <tr>\n",
       "      <th>2295</th>\n",
       "      <td>What is a queue?</td>\n",
       "      <td>a queue is a abstract data type with a private...</td>\n",
       "      <td>1</td>\n",
       "    </tr>\n",
       "    <tr>\n",
       "      <th>2296</th>\n",
       "      <td>What is a queue?</td>\n",
       "      <td>A data structure that can store elements, whic...</td>\n",
       "      <td>1</td>\n",
       "    </tr>\n",
       "  </tbody>\n",
       "</table>\n",
       "<p>2297 rows × 3 columns</p>\n",
       "</div>"
      ],
      "text/plain": [
       "                                               question  \\\n",
       "0     What is the role of a prototype program in pro...   \n",
       "1     What is the role of a prototype program in pro...   \n",
       "2     What is the role of a prototype program in pro...   \n",
       "3     What is the role of a prototype program in pro...   \n",
       "4     What is the role of a prototype program in pro...   \n",
       "...                                                 ...   \n",
       "2292                                   What is a queue?   \n",
       "2293                                   What is a queue?   \n",
       "2294                                   What is a queue?   \n",
       "2295                                   What is a queue?   \n",
       "2296                                   What is a queue?   \n",
       "\n",
       "                                         student_answer  correct  \n",
       "0     High risk problems are address in the prototyp...        0  \n",
       "1     To simulate portions of the desired final prod...        0  \n",
       "2     A prototype program simulates the behaviors of...        0  \n",
       "3     Defined in the Specification phase a prototype...        0  \n",
       "4     It is used to let the users have a first idea ...        0  \n",
       "...                                                 ...      ...  \n",
       "2292               A first in first out data structure         1  \n",
       "2293  A queue is a stack of sequenced tasks, underta...        0  \n",
       "2294  A queue in computer science is the 81st or 113...        0  \n",
       "2295  a queue is a abstract data type with a private...        1  \n",
       "2296  A data structure that can store elements, whic...        1  \n",
       "\n",
       "[2297 rows x 3 columns]"
      ]
     },
     "execution_count": 2,
     "metadata": {},
     "output_type": "execute_result"
    }
   ],
   "source": [
    "df = pd.read_csv(\"data/data_queue_final.csv\", index_col=False)\n",
    "df = df.drop(df.columns[0], axis=1)\n",
    "df"
   ]
  },
  {
   "cell_type": "code",
   "execution_count": 3,
   "metadata": {},
   "outputs": [],
   "source": [
    "responses_OG = df['student_answer'].tolist()"
   ]
  },
  {
   "cell_type": "code",
   "execution_count": 4,
   "metadata": {},
   "outputs": [
    {
     "data": {
      "text/plain": [
       "2240"
      ]
     },
     "execution_count": 4,
     "metadata": {},
     "output_type": "execute_result"
    }
   ],
   "source": [
    "correct_responses_OG = [df.loc[i, 'student_answer'] for i in df.index if df.loc[i, 'correct'] == 1]\n",
    "incorrect_responses_OG = [df.loc[i, 'student_answer'] for i in df.index if df.loc[i, 'correct'] == 0]\n",
    "len(incorrect_responses_OG)"
   ]
  },
  {
   "cell_type": "code",
   "execution_count": 5,
   "metadata": {},
   "outputs": [],
   "source": [
    "query_question = \"What is a queue?\"\n",
    "query_response_OG = \"A queue is a data structure that follows FIFO principle, meaning that the first element added to the queue will be the first one to be removed.\""
   ]
  },
  {
   "cell_type": "code",
   "execution_count": 6,
   "metadata": {},
   "outputs": [],
   "source": [
    "def cleaning(text):\n",
    "    lowered = text.lower() \n",
    "    removed = re.sub(r'[^a-z]', ' ', lowered)  \n",
    "    tokens = nltk.word_tokenize(removed)\n",
    "    lemmatizer = WordNetLemmatizer()\n",
    "    cleaned_tokens = [lemmatizer.lemmatize(word) for word in tokens if word not in stopwords.words('english')]\n",
    "    cleaned_text = ' '.join(cleaned_tokens)\n",
    "    return cleaned_text"
   ]
  },
  {
   "cell_type": "code",
   "execution_count": 7,
   "metadata": {},
   "outputs": [],
   "source": [
    "df['student_answer'] = df['student_answer'].apply(cleaning)\n",
    "\n",
    "responses = df['student_answer'].tolist()\n",
    "\n",
    "correct_responses = [df.loc[i, 'student_answer'] for i in df.index if df.loc[i, 'correct'] == 1]\n",
    "incorrect_responses = [df.loc[i, 'student_answer'] for i in df.index if df.loc[i, 'correct'] == 0]"
   ]
  },
  {
   "cell_type": "code",
   "execution_count": 8,
   "metadata": {},
   "outputs": [],
   "source": [
    "query_response = cleaning(query_response_OG)"
   ]
  },
  {
   "cell_type": "code",
   "execution_count": 23,
   "metadata": {},
   "outputs": [],
   "source": [
    "pipeline = Pipeline([\n",
    "    ('vectorizer', TfidfVectorizer(ngram_range=(1, 1))),\n",
    "])"
   ]
  },
  {
   "cell_type": "code",
   "execution_count": 25,
   "metadata": {},
   "outputs": [
    {
     "name": "stdout",
     "output_type": "stream",
     "text": [
      "Top student responses based on cosine similarity with the query response:\n",
      "1. Response: A Queue is a \"first in first out\" data structure, such that the first element added is also the first removed.\n",
      "   Cosine Similarity: 0.6514737216657435\n",
      "2. Response: A queue is a first in first out data structure.\n",
      "   Cosine Similarity: 0.6011037668877947\n",
      "3. Response: A queue stores a set of elements in a particular order.  Its principle of operation is FIFO(first in first out), which means the first element inserted is the first one to be removed.\n",
      "   Cosine Similarity: 0.583007547420584\n"
     ]
    }
   ],
   "source": [
    "pipeline.fit(responses)\n",
    "\n",
    "query_response_vector = pipeline.transform([query_response])\n",
    "student_responses_vectors = pipeline.transform(responses)\n",
    "\n",
    "cosine_similarities = cosine_similarity(query_response_vector, student_responses_vectors)\n",
    "\n",
    "response_similarities = list(zip(responses_OG, cosine_similarities[0]))\n",
    "\n",
    "response_similarities.sort(key=lambda x: x[1], reverse=True)\n",
    "\n",
    "print(\"Top student responses based on cosine similarity with the query response:\")\n",
    "for i, (response, similarity) in enumerate(response_similarities[:3], 1):\n",
    "    if similarity < 0.5:\n",
    "        break\n",
    "    print(f\"{i}. Response: {response}\")\n",
    "    print(f\"   Cosine Similarity: {similarity}\")\n"
   ]
  },
  {
   "cell_type": "code",
   "execution_count": 19,
   "metadata": {},
   "outputs": [],
   "source": [
    "pipeline = Pipeline([\n",
    "    ('vectorizer', TfidfVectorizer(ngram_range=(1, 2))),\n",
    "])"
   ]
  },
  {
   "cell_type": "code",
   "execution_count": 20,
   "metadata": {},
   "outputs": [
    {
     "name": "stdout",
     "output_type": "stream",
     "text": [
      "Top 3 student responses based on cosine similarity with the query response:\n",
      "1. Response: A Queue is a \"first in first out\" data structure, such that the first element added is also the first removed.\n",
      "   Cosine Similarity: 0.4554544465374513\n",
      "2. Response: A queue is a first in first out data structure.\n",
      "   Cosine Similarity: 0.41581856401842565\n",
      "3. Response: A data structure in C++ where the the first element in the queue is the first element taken out of the queue.\n",
      "   Cosine Similarity: 0.40311361642995935\n"
     ]
    }
   ],
   "source": [
    "pipeline.fit(responses)\n",
    "\n",
    "query_response_vector = pipeline.transform([query_response])\n",
    "student_responses_vectors = pipeline.transform(responses)\n",
    "\n",
    "cosine_similarities = cosine_similarity(query_response_vector, student_responses_vectors)\n",
    "\n",
    "response_similarities = list(zip(responses_OG, cosine_similarities[0]))\n",
    "\n",
    "response_similarities.sort(key=lambda x: x[1], reverse=True)\n",
    "\n",
    "print(\"Top student responses based on cosine similarity with the query response:\")\n",
    "for i, (response, similarity) in enumerate(response_similarities[:3], 1):\n",
    "    if similarity < 0.5:\n",
    "        break\n",
    "    print(f\"{i}. Response: {response}\")\n",
    "    print(f\"   Cosine Similarity: {similarity}\")\n"
   ]
  },
  {
   "cell_type": "code",
   "execution_count": null,
   "metadata": {},
   "outputs": [],
   "source": []
  },
  {
   "cell_type": "code",
   "execution_count": null,
   "metadata": {},
   "outputs": [],
   "source": []
  },
  {
   "cell_type": "code",
   "execution_count": null,
   "metadata": {},
   "outputs": [],
   "source": []
  }
 ],
 "metadata": {
  "kernelspec": {
   "display_name": "dsc_ml",
   "language": "python",
   "name": "python3"
  },
  "language_info": {
   "codemirror_mode": {
    "name": "ipython",
    "version": 3
   },
   "file_extension": ".py",
   "mimetype": "text/x-python",
   "name": "python",
   "nbconvert_exporter": "python",
   "pygments_lexer": "ipython3",
   "version": "3.10.13"
  }
 },
 "nbformat": 4,
 "nbformat_minor": 2
}
