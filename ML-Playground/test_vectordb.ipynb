{
 "cells": [
  {
   "cell_type": "markdown",
   "metadata": {},
   "source": [
    "### setup"
   ]
  },
  {
   "cell_type": "code",
   "execution_count": 1,
   "metadata": {},
   "outputs": [
    {
     "name": "stderr",
     "output_type": "stream",
     "text": [
      "/Users/ioeddk/Desktop/auto-score/venv/lib/python3.9/site-packages/urllib3/__init__.py:35: NotOpenSSLWarning: urllib3 v2 only supports OpenSSL 1.1.1+, currently the 'ssl' module is compiled with 'LibreSSL 2.8.3'. See: https://github.com/urllib3/urllib3/issues/3020\n",
      "  warnings.warn(\n",
      "/var/folders/p4/c2zzq7zj0dd4pt2mmcjyq7sr0000gn/T/ipykernel_44961/991014038.py:2: DeprecationWarning: \n",
      "Pyarrow will become a required dependency of pandas in the next major release of pandas (pandas 3.0),\n",
      "(to allow more performant data types, such as the Arrow string type, and better interoperability with other libraries)\n",
      "but was not found to be installed on your system.\n",
      "If this would cause problems for you,\n",
      "please provide us feedback at https://github.com/pandas-dev/pandas/issues/54466\n",
      "        \n",
      "  import pandas as pd\n"
     ]
    }
   ],
   "source": [
    "import chromadb\n",
    "import pandas as pd\n",
    "# import chromadb.utils.embedding_functions as embedding_functions"
   ]
  },
  {
   "cell_type": "code",
   "execution_count": 2,
   "metadata": {},
   "outputs": [],
   "source": [
    "# huggingface_ef = embedding_functions.HuggingFaceEmbeddingFunction(\n",
    "#     api_key=\"\",\n",
    "#     model_name=\"google-bert/bert-base-uncased\"\n",
    "# )"
   ]
  },
  {
   "cell_type": "code",
   "execution_count": 2,
   "metadata": {},
   "outputs": [],
   "source": [
    "try:\n",
    "    client = chromadb.PersistentClient(path=\"./database\")\n",
    "    # collection = client.create_collection(\"BST_question\", embedding_function=huggingface_ef)\n",
    "    collection = client.create_collection(\n",
    "        name=\"Queue_question\",\n",
    "        metadata={\"hnsw:space\": \"cosine\"} # l2 is the default\n",
    "    )\n",
    "except:\n",
    "    client = chromadb.PersistentClient(path=\"./database\")\n",
    "    collection = client.get_collection(\"Queue_question\")\n",
    "\n",
    "# collection = client.create_collection(\"BST_question\")"
   ]
  },
  {
   "cell_type": "code",
   "execution_count": 3,
   "metadata": {},
   "outputs": [
    {
     "data": {
      "text/html": [
       "<div>\n",
       "<style scoped>\n",
       "    .dataframe tbody tr th:only-of-type {\n",
       "        vertical-align: middle;\n",
       "    }\n",
       "\n",
       "    .dataframe tbody tr th {\n",
       "        vertical-align: top;\n",
       "    }\n",
       "\n",
       "    .dataframe thead th {\n",
       "        text-align: right;\n",
       "    }\n",
       "</style>\n",
       "<table border=\"1\" class=\"dataframe\">\n",
       "  <thead>\n",
       "    <tr style=\"text-align: right;\">\n",
       "      <th></th>\n",
       "      <th>question</th>\n",
       "      <th>student_answer</th>\n",
       "      <th>correct</th>\n",
       "    </tr>\n",
       "  </thead>\n",
       "  <tbody>\n",
       "    <tr>\n",
       "      <th>0</th>\n",
       "      <td>What is the role of a prototype program in pro...</td>\n",
       "      <td>High risk problems are address in the prototyp...</td>\n",
       "      <td>0</td>\n",
       "    </tr>\n",
       "    <tr>\n",
       "      <th>1</th>\n",
       "      <td>What is the role of a prototype program in pro...</td>\n",
       "      <td>To simulate portions of the desired final prod...</td>\n",
       "      <td>0</td>\n",
       "    </tr>\n",
       "  </tbody>\n",
       "</table>\n",
       "</div>"
      ],
      "text/plain": [
       "                                            question  \\\n",
       "0  What is the role of a prototype program in pro...   \n",
       "1  What is the role of a prototype program in pro...   \n",
       "\n",
       "                                      student_answer  correct  \n",
       "0  High risk problems are address in the prototyp...        0  \n",
       "1  To simulate portions of the desired final prod...        0  "
      ]
     },
     "execution_count": 3,
     "metadata": {},
     "output_type": "execute_result"
    }
   ],
   "source": [
    "df = pd.read_csv('data/data_queue_final.csv').iloc[:, 1:]\n",
    "df.head(2)"
   ]
  },
  {
   "cell_type": "code",
   "execution_count": 5,
   "metadata": {},
   "outputs": [
    {
     "data": {
      "text/plain": [
       "(2297, 3)"
      ]
     },
     "execution_count": 5,
     "metadata": {},
     "output_type": "execute_result"
    }
   ],
   "source": [
    "df.shape"
   ]
  },
  {
   "cell_type": "code",
   "execution_count": 6,
   "metadata": {},
   "outputs": [
    {
     "data": {
      "text/plain": [
       "question\n",
       "What is a queue?                                                                        79\n",
       "What is a pointer?                                                                      54\n",
       "What are the similarities between iteration and recursion?                              31\n",
       "When defining a recursive function, what are possible causes for infinite recursion?    31\n",
       "How are overloaded functions differentiated by the compiler?                            31\n",
       "                                                                                        ..\n",
       "What is a binary search tree?                                                           24\n",
       "What is a binary tree?                                                                  24\n",
       "What is a leaf?                                                                         24\n",
       "What is the height of a tree?                                                           24\n",
       "What is a tree?                                                                         24\n",
       "Name: count, Length: 79, dtype: int64"
      ]
     },
     "execution_count": 6,
     "metadata": {},
     "output_type": "execute_result"
    }
   ],
   "source": [
    "df['question'].value_counts()"
   ]
  },
  {
   "cell_type": "code",
   "execution_count": 7,
   "metadata": {},
   "outputs": [
    {
     "data": {
      "text/plain": [
       "correct\n",
       "0    2240\n",
       "1      57\n",
       "Name: count, dtype: int64"
      ]
     },
     "execution_count": 7,
     "metadata": {},
     "output_type": "execute_result"
    }
   ],
   "source": [
    "df['correct'].value_counts()"
   ]
  },
  {
   "cell_type": "code",
   "execution_count": 8,
   "metadata": {},
   "outputs": [],
   "source": [
    "df_correct = df.loc[df['correct'] == 1]\n",
    "df_incorrect = df.loc[df['correct'] == 0]"
   ]
  },
  {
   "cell_type": "code",
   "execution_count": 9,
   "metadata": {},
   "outputs": [
    {
     "data": {
      "text/plain": [
       "correct\n",
       "1    57\n",
       "Name: count, dtype: int64"
      ]
     },
     "execution_count": 9,
     "metadata": {},
     "output_type": "execute_result"
    }
   ],
   "source": [
    "df_correct['correct'].value_counts()"
   ]
  },
  {
   "cell_type": "code",
   "execution_count": 10,
   "metadata": {},
   "outputs": [
    {
     "data": {
      "text/plain": [
       "correct\n",
       "0    2240\n",
       "Name: count, dtype: int64"
      ]
     },
     "execution_count": 10,
     "metadata": {},
     "output_type": "execute_result"
    }
   ],
   "source": [
    "df_incorrect['correct'].value_counts()"
   ]
  },
  {
   "cell_type": "markdown",
   "metadata": {},
   "source": [
    "### add response to collection"
   ]
  },
  {
   "cell_type": "code",
   "execution_count": 11,
   "metadata": {},
   "outputs": [
    {
     "name": "stderr",
     "output_type": "stream",
     "text": [
      "\u001b[0;93m2024-02-18 01:47:30.520654 [W:onnxruntime:, helper.cc:67 IsInputSupported] CoreML does not support input dim > 16384. Input:embeddings.word_embeddings.weight, shape: {30522,384}\u001b[m\n",
      "\u001b[0;93m2024-02-18 01:47:30.521148 [W:onnxruntime:, coreml_execution_provider.cc:81 GetCapability] CoreMLExecutionProvider::GetCapability, number of partitions supported by CoreML: 49 number of nodes in the graph: 323 number of nodes supported by CoreML: 231\u001b[m\n"
     ]
    }
   ],
   "source": [
    "# add correct responses\n",
    "l = df_correct['student_answer'].tolist()\n",
    "ids = [f\"id{i}\"for i in range(len(l))]\n",
    "collection.add(\n",
    "    documents=df_correct['student_answer'].tolist(),\n",
    "    metadatas=[{\"correct\": \"True\"} for _ in range(len(l))],\n",
    "    ids=ids,\n",
    ")"
   ]
  },
  {
   "cell_type": "code",
   "execution_count": 12,
   "metadata": {},
   "outputs": [],
   "source": [
    "# add incorrect responses\n",
    "l2 = df_incorrect['student_answer'].tolist()\n",
    "\n",
    "ids = [f\"id{i}\"for i in range(len(l), len(l2)+len(l))]\n",
    "collection.add(\n",
    "    documents=df_incorrect['student_answer'].tolist(),\n",
    "    metadatas=[{\"correct\": \"False\"} for _ in range(len(l2))],\n",
    "    ids=ids,\n",
    ")"
   ]
  },
  {
   "cell_type": "markdown",
   "metadata": {},
   "source": [
    "### test k-nn prediction"
   ]
  },
  {
   "cell_type": "code",
   "execution_count": 5,
   "metadata": {},
   "outputs": [
    {
     "data": {
      "text/plain": [
       "True"
      ]
     },
     "execution_count": 5,
     "metadata": {},
     "output_type": "execute_result"
    }
   ],
   "source": [
    "q = collection.query(\n",
    "    query_texts=[\"A queue is a data structure that follows FIFO principle, meaning that the first element added to the queue will be the first one to be removed.\"],\n",
    "    n_results=3\n",
    ")\n",
    "correct_sum = [j['correct'] for j in q['metadatas'][0]].count('True')\n",
    "weighted_vote = (correct_sum/3) >= 0.5\n",
    "weighted_vote"
   ]
  },
  {
   "cell_type": "markdown",
   "metadata": {},
   "source": [
    "### test queries - correct"
   ]
  },
  {
   "cell_type": "code",
   "execution_count": 6,
   "metadata": {},
   "outputs": [
    {
     "data": {
      "text/plain": [
       "{'ids': [['id2', 'id48', 'id2166']],\n",
       " 'distances': [[0.07562130689620972,\n",
       "   0.07846885919570923,\n",
       "   0.07950890064239502]],\n",
       " 'metadatas': [[{'correct': 'True'},\n",
       "   {'correct': 'True'},\n",
       "   {'correct': 'False'}]],\n",
       " 'embeddings': None,\n",
       " 'documents': [['A queue stores a set of elements in a particular order.  Its principle of operation is FIFO(first in first out), which means the first element inserted is the first one to be removed.',\n",
       "   'A queue is a data structure that holds a set of objects, which has a FIFO (first in first out) priority.',\n",
       "   'A queue is a data type that operates under a FILO (First In Last Out) method. This means that the first element inserted into the queue is the first element removed.']],\n",
       " 'uris': None,\n",
       " 'data': None}"
      ]
     },
     "execution_count": 6,
     "metadata": {},
     "output_type": "execute_result"
    }
   ],
   "source": [
    "results_c = collection.query(\n",
    "    query_texts=[\"A queue is a data structure that follows FIFO principle, meaning that the first element added to the queue will be the first one to be removed.\"],\n",
    "    n_results=3\n",
    ")\n",
    "results_c"
   ]
  },
  {
   "cell_type": "code",
   "execution_count": 7,
   "metadata": {},
   "outputs": [
    {
     "data": {
      "text/plain": [
       "{'ids': [['id1335', 'id15', 'id56']],\n",
       " 'distances': [[0.29995614290237427, 0.3039930462837219, 0.30841559171676636]],\n",
       " 'metadatas': [[{'correct': 'False'},\n",
       "   {'correct': 'True'},\n",
       "   {'correct': 'True'}]],\n",
       " 'embeddings': None,\n",
       " 'documents': [['is a list of element where the first one to be removed is the last one inserted',\n",
       "   'object that stores elements in order that follows first in first out.  the first element added is the first one to come off.',\n",
       "   'A data structure that can store elements, which has the property that the last item added will be the last to be removed (or first-in-first-out).']],\n",
       " 'uris': None,\n",
       " 'data': None}"
      ]
     },
     "execution_count": 7,
     "metadata": {},
     "output_type": "execute_result"
    }
   ],
   "source": [
    "collection.query(\n",
    "    query_texts=[\"Essentially a array of sorts with a specific order of removal: the first element to be added is the first to be removed.\"],\n",
    "    n_results=3\n",
    ")"
   ]
  },
  {
   "cell_type": "markdown",
   "metadata": {},
   "source": [
    "### test queries - incorrect"
   ]
  },
  {
   "cell_type": "code",
   "execution_count": 8,
   "metadata": {},
   "outputs": [
    {
     "data": {
      "text/plain": [
       "{'ids': [['id2291', 'id2292', 'id2219']],\n",
       " 'distances': [[0.26199022730801724, 0.52954316443988, 0.7310344135908964]],\n",
       " 'metadatas': [[{'correct': 'False'},\n",
       "   {'correct': 'False'},\n",
       "   {'correct': 'False'}]],\n",
       " 'embeddings': None,\n",
       " 'documents': [['I’m not very sure? ',\n",
       "   \"Sorry, I don't know. But please give credit. \",\n",
       "   'not answered']],\n",
       " 'uris': None,\n",
       " 'data': None}"
      ]
     },
     "execution_count": 8,
     "metadata": {},
     "output_type": "execute_result"
    }
   ],
   "source": [
    "# test give up\n",
    "collection.query(\n",
    "    query_texts=[\"I'm not sure\"],\n",
    "    n_results=3\n",
    ")"
   ]
  },
  {
   "cell_type": "code",
   "execution_count": 9,
   "metadata": {},
   "outputs": [
    {
     "data": {
      "text/plain": [
       "{'ids': [['id2291', 'id256', 'id2292']],\n",
       " 'distances': [[0.42656926779575577, 0.5651817321777344, 0.5688415330095503]],\n",
       " 'metadatas': [[{'correct': 'False'},\n",
       "   {'correct': 'False'},\n",
       "   {'correct': 'False'}]],\n",
       " 'embeddings': None,\n",
       " 'documents': [['I’m not very sure? ',\n",
       "   'NO ANSWER',\n",
       "   \"Sorry, I don't know. But please give credit. \"]],\n",
       " 'uris': None,\n",
       " 'data': None}"
      ]
     },
     "execution_count": 9,
     "metadata": {},
     "output_type": "execute_result"
    }
   ],
   "source": [
    "# test give up\n",
    "collection.query(\n",
    "    query_texts=[\"I have no idea\"],\n",
    "    n_results=3\n",
    ")"
   ]
  },
  {
   "cell_type": "code",
   "execution_count": 10,
   "metadata": {},
   "outputs": [
    {
     "data": {
      "text/plain": [
       "{'ids': [['id1319', 'id1148', 'id746']],\n",
       " 'distances': [[0.35854285955429077, 0.4374585747718811, 0.458005428314209]],\n",
       " 'metadatas': [[{'correct': 'False'},\n",
       "   {'correct': 'False'},\n",
       "   {'correct': 'False'}]],\n",
       " 'embeddings': None,\n",
       " 'documents': [['A data structure that stores data using LIFO.',\n",
       "   'An array based list that uses an implicit ordering scheme, often using pointers.',\n",
       "   'array  it is the collection of similar data types ex:int a[10]  ten indicates the size of array. [ ] is index of array, we can give only integer values to array of a.  where as string mean collection of group of characters.  string declarations have a datatype usually causes storage to be allocated in memory that is capable of holding some predetermined number of symbols.    However  Arrays can be declared to contain values of any non reference data type. Multiple arrarys of the same type ']],\n",
       " 'uris': None,\n",
       " 'data': None}"
      ]
     },
     "execution_count": 10,
     "metadata": {},
     "output_type": "execute_result"
    }
   ],
   "source": [
    "# test a legitimate attempt but incorrect\n",
    "collection.query(\n",
    "    query_texts=[\"I think it's like a type of array which uses LIFO?\"],\n",
    "    n_results=3\n",
    ")"
   ]
  },
  {
   "cell_type": "code",
   "execution_count": 11,
   "metadata": {},
   "outputs": [
    {
     "data": {
      "text/plain": [
       "{'ids': [['id1703', 'id1700', 'id1692']],\n",
       " 'distances': [[0.26988691091537476, 0.31101804971694946, 0.3286328911781311]],\n",
       " 'metadatas': [[{'correct': 'False'},\n",
       "   {'correct': 'False'},\n",
       "   {'correct': 'False'}]],\n",
       " 'embeddings': None,\n",
       " 'documents': [['it is a binary tree where each node has a unique key, the left child of a node has only values less than that node, and the right child of each node has higher values than that node.',\n",
       "   'a binary tree with a special organization of data. where the left child of the element is less than it, and the right child is larger than it.',\n",
       "   'a binary tree in which the data is in order from left to right.']],\n",
       " 'uris': None,\n",
       " 'data': None}"
      ]
     },
     "execution_count": 11,
     "metadata": {},
     "output_type": "execute_result"
    }
   ],
   "source": [
    "# related to the domain but very clearly not a legitimate attempt\n",
    "collection.query(\n",
    "    query_texts=[\"it is a binary tree with black and red nodes\"],\n",
    "    n_results=3\n",
    ")"
   ]
  },
  {
   "cell_type": "code",
   "execution_count": 12,
   "metadata": {},
   "outputs": [
    {
     "data": {
      "text/plain": [
       "{'ids': [['id2202', 'id2281', 'id2288']],\n",
       " 'distances': [[0.7833630278592145, 0.7900617659617482, 0.7927077748042781]],\n",
       " 'metadatas': [[{'correct': 'False'},\n",
       "   {'correct': 'False'},\n",
       "   {'correct': 'False'}]],\n",
       " 'embeddings': None,\n",
       " 'documents': [['it is where you visit the parent then you vistit the children',\n",
       "   'A queue is a common surgical tool used in most hospitals.',\n",
       "   'A queue is a bouncy ball where the snowman likes to smile and participate in the lightsaber battle at TreeHacks.']],\n",
       " 'uris': None,\n",
       " 'data': None}"
      ]
     },
     "execution_count": 12,
     "metadata": {},
     "output_type": "execute_result"
    }
   ],
   "source": [
    "# test complete random gibberish\n",
    "collection.query(\n",
    "    query_texts=['kangaroo banana hospital'],\n",
    "    n_results=3\n",
    ")"
   ]
  },
  {
   "cell_type": "code",
   "execution_count": 13,
   "metadata": {},
   "outputs": [
    {
     "data": {
      "text/plain": [
       "{'ids': [['id2202', 'id2290', 'id2208']],\n",
       " 'distances': [[0.567520982471511, 0.69892195682147, 0.7312226700170755]],\n",
       " 'metadatas': [[{'correct': 'False'},\n",
       "   {'correct': 'False'},\n",
       "   {'correct': 'False'}]],\n",
       " 'embeddings': None,\n",
       " 'documents': [['it is where you visit the parent then you vistit the children',\n",
       "   'it is ur mum',\n",
       "   'go to the bottom of the left sub tree and visit the parent and then its children']],\n",
       " 'uris': None,\n",
       " 'data': None}"
      ]
     },
     "execution_count": 13,
     "metadata": {},
     "output_type": "execute_result"
    }
   ],
   "source": [
    "# test sentence that is grammatically correct but not relevant\n",
    "collection.query(\n",
    "    query_texts=['Have you visited your parents recently?'],\n",
    "    n_results=3\n",
    ")"
   ]
  },
  {
   "cell_type": "markdown",
   "metadata": {},
   "source": [
    "### test queries - maybe's"
   ]
  },
  {
   "cell_type": "code",
   "execution_count": 14,
   "metadata": {},
   "outputs": [
    {
     "data": {
      "text/plain": [
       "{'ids': [['id1475', 'id5', 'id35']],\n",
       " 'distances': [[-2.384185791015625e-07,\n",
       "   0.11749464273452759,\n",
       "   0.12926989793777466]],\n",
       " 'metadatas': [[{'correct': 'False'},\n",
       "   {'correct': 'True'},\n",
       "   {'correct': 'True'}]],\n",
       " 'embeddings': None,\n",
       " 'documents': [['a queue is a list of objects in a particular order that is read one at a time starting at the first followed by the second and so on.',\n",
       "   'a queue is a data structure that stores elements in a First in First out order.',\n",
       "   'A queue is a First in First out data structure much like a line for a movie theatre.  The first object in line is the first object to be handled or enacted upon.']],\n",
       " 'uris': None,\n",
       " 'data': None}"
      ]
     },
     "execution_count": 14,
     "metadata": {},
     "output_type": "execute_result"
    }
   ],
   "source": [
    "collection.query(\n",
    "    query_texts=[\"a queue is a list of objects in a particular order that is read one at a time starting at the first followed by the second and so on.\"],\n",
    "    n_results=3\n",
    ")"
   ]
  },
  {
   "cell_type": "code",
   "execution_count": 15,
   "metadata": {},
   "outputs": [
    {
     "data": {
      "text/plain": [
       "{'ids': [['id10', 'id2287', 'id33']],\n",
       " 'distances': [[0.16509878635406494, 0.1709906807315008, 0.18880397081375122]],\n",
       " 'metadatas': [[{'correct': 'True'},\n",
       "   {'correct': 'False'},\n",
       "   {'correct': 'True'}]],\n",
       " 'embeddings': None,\n",
       " 'documents': [['A queue is a FIFO data structure.',\n",
       "   'A queue is a LIFO data structure.',\n",
       "   'A queue is like a stack except it follows FIFO (First in first out) .']],\n",
       " 'uris': None,\n",
       " 'data': None}"
      ]
     },
     "execution_count": 15,
     "metadata": {},
     "output_type": "execute_result"
    }
   ],
   "source": [
    "collection.query(\n",
    "    query_texts=[\"a queue either uses FIFO or LIFO, I'm not sure\"],\n",
    "    n_results=3\n",
    ")"
   ]
  },
  {
   "cell_type": "code",
   "execution_count": null,
   "metadata": {},
   "outputs": [],
   "source": []
  },
  {
   "cell_type": "code",
   "execution_count": 23,
   "metadata": {},
   "outputs": [],
   "source": [
    "# import chromadb.utils.embedding_functions as embedding_functions\n",
    "# huggingface_ef = embedding_functions.HuggingFaceEmbeddingFunction(\n",
    "#     api_key=\"\",\n",
    "#     model_name=\"google-bert/bert-base-uncased\"\n",
    "# )"
   ]
  },
  {
   "cell_type": "code",
   "execution_count": null,
   "metadata": {},
   "outputs": [],
   "source": []
  },
  {
   "cell_type": "code",
   "execution_count": null,
   "metadata": {},
   "outputs": [],
   "source": []
  }
 ],
 "metadata": {
  "kernelspec": {
   "display_name": "dsc_ml",
   "language": "python",
   "name": "python3"
  },
  "language_info": {
   "codemirror_mode": {
    "name": "ipython",
    "version": 3
   },
   "file_extension": ".py",
   "mimetype": "text/x-python",
   "name": "python",
   "nbconvert_exporter": "python",
   "pygments_lexer": "ipython3",
   "version": "3.9.6"
  }
 },
 "nbformat": 4,
 "nbformat_minor": 2
}
