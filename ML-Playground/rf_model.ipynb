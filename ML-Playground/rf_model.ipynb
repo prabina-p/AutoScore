{
 "cells": [
  {
   "cell_type": "code",
   "execution_count": 1,
   "metadata": {},
   "outputs": [
    {
     "name": "stderr",
     "output_type": "stream",
     "text": [
      "/var/folders/8g/tf9vw4pd7fq5p7_swsslw8jc0000gn/T/ipykernel_60297/4088253629.py:1: DeprecationWarning: \n",
      "Pyarrow will become a required dependency of pandas in the next major release of pandas (pandas 3.0),\n",
      "(to allow more performant data types, such as the Arrow string type, and better interoperability with other libraries)\n",
      "but was not found to be installed on your system.\n",
      "If this would cause problems for you,\n",
      "please provide us feedback at https://github.com/pandas-dev/pandas/issues/54466\n",
      "        \n",
      "  import pandas as pd\n",
      "[nltk_data] Downloading package punkt to\n",
      "[nltk_data]     /Users/prabinapokharel/nltk_data...\n",
      "[nltk_data]   Package punkt is already up-to-date!\n",
      "[nltk_data] Downloading package wordnet to\n",
      "[nltk_data]     /Users/prabinapokharel/nltk_data...\n",
      "[nltk_data]   Package wordnet is already up-to-date!\n",
      "[nltk_data] Downloading package stopwords to\n",
      "[nltk_data]     /Users/prabinapokharel/nltk_data...\n",
      "[nltk_data]   Package stopwords is already up-to-date!\n"
     ]
    },
    {
     "data": {
      "text/plain": [
       "True"
      ]
     },
     "execution_count": 1,
     "metadata": {},
     "output_type": "execute_result"
    }
   ],
   "source": [
    "import pandas as pd\n",
    "import re\n",
    "\n",
    "from sklearn.ensemble import RandomForestClassifier\n",
    "from sklearn.pipeline import Pipeline\n",
    "from sklearn.model_selection import train_test_split\n",
    "from sklearn.metrics import accuracy_score\n",
    "from sklearn.feature_extraction.text import TfidfVectorizer\n",
    "from sklearn.metrics import f1_score, precision_score, recall_score\n",
    "\n",
    "import nltk\n",
    "from nltk.stem import WordNetLemmatizer\n",
    "from nltk.corpus  import stopwords\n",
    "nltk.download('punkt')\n",
    "nltk.download('wordnet')\n",
    "nltk.download('stopwords')"
   ]
  },
  {
   "cell_type": "markdown",
   "metadata": {},
   "source": [
    "# Data Cleaning"
   ]
  },
  {
   "cell_type": "code",
   "execution_count": 2,
   "metadata": {},
   "outputs": [
    {
     "data": {
      "text/html": [
       "<div>\n",
       "<style scoped>\n",
       "    .dataframe tbody tr th:only-of-type {\n",
       "        vertical-align: middle;\n",
       "    }\n",
       "\n",
       "    .dataframe tbody tr th {\n",
       "        vertical-align: top;\n",
       "    }\n",
       "\n",
       "    .dataframe thead th {\n",
       "        text-align: right;\n",
       "    }\n",
       "</style>\n",
       "<table border=\"1\" class=\"dataframe\">\n",
       "  <thead>\n",
       "    <tr style=\"text-align: right;\">\n",
       "      <th></th>\n",
       "      <th>question</th>\n",
       "      <th>student_answer</th>\n",
       "      <th>correct</th>\n",
       "    </tr>\n",
       "  </thead>\n",
       "  <tbody>\n",
       "    <tr>\n",
       "      <th>0</th>\n",
       "      <td>What is the role of a prototype program in pro...</td>\n",
       "      <td>High risk problems are address in the prototyp...</td>\n",
       "      <td>0</td>\n",
       "    </tr>\n",
       "    <tr>\n",
       "      <th>1</th>\n",
       "      <td>What is the role of a prototype program in pro...</td>\n",
       "      <td>To simulate portions of the desired final prod...</td>\n",
       "      <td>0</td>\n",
       "    </tr>\n",
       "    <tr>\n",
       "      <th>2</th>\n",
       "      <td>What is the role of a prototype program in pro...</td>\n",
       "      <td>A prototype program simulates the behaviors of...</td>\n",
       "      <td>0</td>\n",
       "    </tr>\n",
       "    <tr>\n",
       "      <th>3</th>\n",
       "      <td>What is the role of a prototype program in pro...</td>\n",
       "      <td>Defined in the Specification phase a prototype...</td>\n",
       "      <td>0</td>\n",
       "    </tr>\n",
       "    <tr>\n",
       "      <th>4</th>\n",
       "      <td>What is the role of a prototype program in pro...</td>\n",
       "      <td>It is used to let the users have a first idea ...</td>\n",
       "      <td>0</td>\n",
       "    </tr>\n",
       "    <tr>\n",
       "      <th>...</th>\n",
       "      <td>...</td>\n",
       "      <td>...</td>\n",
       "      <td>...</td>\n",
       "    </tr>\n",
       "    <tr>\n",
       "      <th>2292</th>\n",
       "      <td>What is a queue?</td>\n",
       "      <td>A first in first out data structure</td>\n",
       "      <td>1</td>\n",
       "    </tr>\n",
       "    <tr>\n",
       "      <th>2293</th>\n",
       "      <td>What is a queue?</td>\n",
       "      <td>A queue is a stack of sequenced tasks, underta...</td>\n",
       "      <td>0</td>\n",
       "    </tr>\n",
       "    <tr>\n",
       "      <th>2294</th>\n",
       "      <td>What is a queue?</td>\n",
       "      <td>A queue in computer science is the 81st or 113...</td>\n",
       "      <td>0</td>\n",
       "    </tr>\n",
       "    <tr>\n",
       "      <th>2295</th>\n",
       "      <td>What is a queue?</td>\n",
       "      <td>a queue is a abstract data type with a private...</td>\n",
       "      <td>1</td>\n",
       "    </tr>\n",
       "    <tr>\n",
       "      <th>2296</th>\n",
       "      <td>What is a queue?</td>\n",
       "      <td>A data structure that can store elements, whic...</td>\n",
       "      <td>1</td>\n",
       "    </tr>\n",
       "  </tbody>\n",
       "</table>\n",
       "<p>2297 rows × 3 columns</p>\n",
       "</div>"
      ],
      "text/plain": [
       "                                               question  \\\n",
       "0     What is the role of a prototype program in pro...   \n",
       "1     What is the role of a prototype program in pro...   \n",
       "2     What is the role of a prototype program in pro...   \n",
       "3     What is the role of a prototype program in pro...   \n",
       "4     What is the role of a prototype program in pro...   \n",
       "...                                                 ...   \n",
       "2292                                   What is a queue?   \n",
       "2293                                   What is a queue?   \n",
       "2294                                   What is a queue?   \n",
       "2295                                   What is a queue?   \n",
       "2296                                   What is a queue?   \n",
       "\n",
       "                                         student_answer  correct  \n",
       "0     High risk problems are address in the prototyp...        0  \n",
       "1     To simulate portions of the desired final prod...        0  \n",
       "2     A prototype program simulates the behaviors of...        0  \n",
       "3     Defined in the Specification phase a prototype...        0  \n",
       "4     It is used to let the users have a first idea ...        0  \n",
       "...                                                 ...      ...  \n",
       "2292               A first in first out data structure         1  \n",
       "2293  A queue is a stack of sequenced tasks, underta...        0  \n",
       "2294  A queue in computer science is the 81st or 113...        0  \n",
       "2295  a queue is a abstract data type with a private...        1  \n",
       "2296  A data structure that can store elements, whic...        1  \n",
       "\n",
       "[2297 rows x 3 columns]"
      ]
     },
     "execution_count": 2,
     "metadata": {},
     "output_type": "execute_result"
    }
   ],
   "source": [
    "df = pd.read_csv(\"data/data_queue_final.csv\", index_col=False)\n",
    "df = df.drop(df.columns[0], axis=1)\n",
    "df"
   ]
  },
  {
   "cell_type": "code",
   "execution_count": 3,
   "metadata": {},
   "outputs": [],
   "source": [
    "responses_OG = df['student_answer'].tolist()"
   ]
  },
  {
   "cell_type": "code",
   "execution_count": 4,
   "metadata": {},
   "outputs": [
    {
     "data": {
      "text/plain": [
       "2240"
      ]
     },
     "execution_count": 4,
     "metadata": {},
     "output_type": "execute_result"
    }
   ],
   "source": [
    "correct_responses_OG = [df.loc[i, 'student_answer'] for i in df.index if df.loc[i, 'correct'] == 1]\n",
    "incorrect_responses_OG = [df.loc[i, 'student_answer'] for i in df.index if df.loc[i, 'correct'] == 0]\n",
    "len(incorrect_responses_OG)"
   ]
  },
  {
   "cell_type": "code",
   "execution_count": 5,
   "metadata": {},
   "outputs": [],
   "source": [
    "query_question = \"What is a queue?\"\n",
    "query_response_OG = \"A queue is a data structure that follows FIFO principle, meaning that the first element added to the queue will be the first one to be removed.\""
   ]
  },
  {
   "cell_type": "code",
   "execution_count": 6,
   "metadata": {},
   "outputs": [],
   "source": [
    "def cleaning(text):\n",
    "    lowered = text.lower() \n",
    "    removed = re.sub(r'[^a-z]', ' ', lowered)  \n",
    "    tokens = nltk.word_tokenize(removed)\n",
    "    lemmatizer = WordNetLemmatizer()\n",
    "    cleaned_tokens = [lemmatizer.lemmatize(word) for word in tokens if word not in stopwords.words('english')]\n",
    "    cleaned_text = ' '.join(cleaned_tokens)\n",
    "    return cleaned_text"
   ]
  },
  {
   "cell_type": "code",
   "execution_count": 7,
   "metadata": {},
   "outputs": [],
   "source": [
    "df['student_answer'] = df['student_answer'].apply(cleaning)\n",
    "\n",
    "responses = df['student_answer'].tolist()\n",
    "\n",
    "correct_responses = [df.loc[i, 'student_answer'] for i in df.index if df.loc[i, 'correct'] == 1]\n",
    "incorrect_responses = [df.loc[i, 'student_answer'] for i in df.index if df.loc[i, 'correct'] == 0]"
   ]
  },
  {
   "cell_type": "code",
   "execution_count": 8,
   "metadata": {},
   "outputs": [],
   "source": [
    "query_response = cleaning(query_response_OG)"
   ]
  },
  {
   "cell_type": "markdown",
   "metadata": {},
   "source": [
    "# Model"
   ]
  },
  {
   "cell_type": "markdown",
   "metadata": {},
   "source": [
    "## Only tf-idf and Random Forest"
   ]
  },
  {
   "cell_type": "code",
   "execution_count": 9,
   "metadata": {},
   "outputs": [
    {
     "name": "stdout",
     "output_type": "stream",
     "text": [
      "F1 score: 0.2857142857142857\n"
     ]
    }
   ],
   "source": [
    "pipeline = Pipeline([\n",
    "    \n",
    "    ('tfidf', TfidfVectorizer(preprocessor=cleaning)),\n",
    "    ('classifier', RandomForestClassifier())\n",
    "])\n",
    "\n",
    "X_train, X_test, y_train, y_test = train_test_split(df['student_answer'], df['correct'], test_size=0.2, random_state=42)\n",
    "\n",
    "pipeline.fit(X_train, y_train)\n",
    "\n",
    "y_pred = pipeline.predict(X_test)\n",
    "\n",
    "accuracy = f1_score(y_test, y_pred)\n",
    "print(\"F1 score:\", accuracy)\n"
   ]
  },
  {
   "cell_type": "markdown",
   "metadata": {},
   "source": [
    "# Add thresholding"
   ]
  },
  {
   "cell_type": "code",
   "execution_count": 10,
   "metadata": {},
   "outputs": [
    {
     "name": "stdout",
     "output_type": "stream",
     "text": [
      "Accuracy: 0.9869565217391304\n",
      "Precision: 0.8\n",
      "Recall: 0.6666666666666666\n",
      "F1 Score: 0.7272727272727272\n"
     ]
    }
   ],
   "source": [
    "y_proba = pipeline.predict_proba(X_test)[:, 1]\n",
    "\n",
    "threshold = 0.3\n",
    "\n",
    "y_pred_threshold = (y_proba >= threshold).astype(int)\n",
    "\n",
    "accuracy_threshold = accuracy_score(y_test, y_pred_threshold)\n",
    "precision_threshold = precision_score(y_test, y_pred_threshold)\n",
    "recall_threshold = recall_score(y_test, y_pred_threshold)\n",
    "f1_threshold = f1_score(y_test, y_pred_threshold)\n",
    "\n",
    "print(\"Accuracy:\", accuracy_threshold)\n",
    "print(\"Precision:\", precision_threshold)\n",
    "print(\"Recall:\", recall_threshold)\n",
    "print(\"F1 Score:\", f1_threshold)\n"
   ]
  },
  {
   "cell_type": "code",
   "execution_count": 11,
   "metadata": {},
   "outputs": [
    {
     "name": "stdout",
     "output_type": "stream",
     "text": [
      "Threshold: 0.2, Precision: 0.5789473684210527, Recall: 0.9166666666666666, F1 Score: 0.7096774193548387\n",
      "Threshold: 0.3, Precision: 0.8, Recall: 0.6666666666666666, F1 Score: 0.7272727272727272\n",
      "Threshold: 0.4, Precision: 1.0, Recall: 0.3333333333333333, F1 Score: 0.5\n",
      "Threshold: 0.5, Precision: 1.0, Recall: 0.16666666666666666, F1 Score: 0.2857142857142857\n",
      "Threshold: 0.6, Precision: 1.0, Recall: 0.16666666666666666, F1 Score: 0.2857142857142857\n",
      "Threshold: 0.7, Precision: 0.0, Recall: 0.0, F1 Score: 0.0\n"
     ]
    },
    {
     "name": "stderr",
     "output_type": "stream",
     "text": [
      "/Users/prabinapokharel/anaconda3/lib/python3.10/site-packages/sklearn/metrics/_classification.py:1469: UndefinedMetricWarning: Precision is ill-defined and being set to 0.0 due to no predicted samples. Use `zero_division` parameter to control this behavior.\n",
      "  _warn_prf(average, modifier, msg_start, len(result))\n"
     ]
    }
   ],
   "source": [
    "# Predict probabilities instead of class labels\n",
    "y_probabilities = pipeline.predict_proba(X_test)[:, 1]\n",
    "\n",
    "thresholds = [0.2, 0.3, 0.4, 0.5, 0.6, 0.7]\n",
    "\n",
    "for threshold in thresholds:\n",
    "    y_pred_threshold = (y_probabilities > threshold).astype(int)\n",
    "    precision = precision_score(y_test, y_pred_threshold)\n",
    "    recall = recall_score(y_test, y_pred_threshold)\n",
    "    f1 = f1_score(y_test, y_pred_threshold)\n",
    "    print(f\"Threshold: {threshold}, Precision: {precision}, Recall: {recall}, F1 Score: {f1}\")\n"
   ]
  },
  {
   "cell_type": "markdown",
   "metadata": {},
   "source": [
    "## Add n-gram"
   ]
  },
  {
   "cell_type": "code",
   "execution_count": 12,
   "metadata": {},
   "outputs": [
    {
     "name": "stdout",
     "output_type": "stream",
     "text": [
      "Accuracy (with adjusted threshold): 0.9869565217391304\n",
      "Precision (with adjusted threshold): 0.75\n",
      "Recall (with adjusted threshold): 0.75\n",
      "F1 Score (with adjusted threshold): 0.75\n"
     ]
    }
   ],
   "source": [
    "pipeline = Pipeline([\n",
    "    ('tfidf', TfidfVectorizer(preprocessor=cleaning, ngram_range=(1, 2))),\n",
    "    ('classifier', RandomForestClassifier())\n",
    "])\n",
    "\n",
    "X_train, X_test, y_train, y_test = train_test_split(df['student_answer'], df['correct'], test_size=0.2, random_state=42)\n",
    "\n",
    "pipeline.fit(X_train, y_train)\n",
    "\n",
    "y_proba = pipeline.predict_proba(X_test)[:, 1]\n",
    "\n",
    "threshold = 0.3\n",
    "\n",
    "y_pred_threshold = (y_proba >= threshold).astype(int)\n",
    "\n",
    "accuracy_threshold = accuracy_score(y_test, y_pred_threshold)\n",
    "precision_threshold = precision_score(y_test, y_pred_threshold)\n",
    "recall_threshold = recall_score(y_test, y_pred_threshold)\n",
    "f1_threshold = f1_score(y_test, y_pred_threshold)\n",
    "\n",
    "print(\"Accuracy (with adjusted threshold):\", accuracy_threshold)\n",
    "print(\"Precision (with adjusted threshold):\", precision_threshold)\n",
    "print(\"Recall (with adjusted threshold):\", recall_threshold)\n",
    "print(\"F1 Score (with adjusted threshold):\", f1_threshold)"
   ]
  },
  {
   "cell_type": "code",
   "execution_count": null,
   "metadata": {},
   "outputs": [],
   "source": []
  }
 ],
 "metadata": {
  "kernelspec": {
   "display_name": "dsc_ml",
   "language": "python",
   "name": "python3"
  },
  "language_info": {
   "codemirror_mode": {
    "name": "ipython",
    "version": 3
   },
   "file_extension": ".py",
   "mimetype": "text/x-python",
   "name": "python",
   "nbconvert_exporter": "python",
   "pygments_lexer": "ipython3",
   "version": "3.10.13"
  }
 },
 "nbformat": 4,
 "nbformat_minor": 2
}
